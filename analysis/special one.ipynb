{
 "cells": [
  {
   "cell_type": "code",
   "execution_count": 1,
   "id": "35689155-7a58-4113-8dec-006efdb21535",
   "metadata": {},
   "outputs": [],
   "source": [
    "import numpy as np\n",
    "from collections import defaultdict"
   ]
  },
  {
   "cell_type": "markdown",
   "id": "18363c29-794e-44ae-a3ef-14de93f92027",
   "metadata": {},
   "source": [
    "## 初筛"
   ]
  },
  {
   "cell_type": "code",
   "execution_count": 2,
   "id": "fe970eac-6dd4-415d-94d0-b0154cf955c8",
   "metadata": {},
   "outputs": [],
   "source": [
    "exp_name = 'default_3'\n",
    "        \n",
    "item2cate = {}\n",
    "with open('../data/book14_data/book14_item_cate.txt', 'r') as f:\n",
    "    for line in f:\n",
    "        conts = line.strip().split(',')\n",
    "        item2cate[conts[0]] = conts[1]\n",
    "id2asin = {}\n",
    "with open('../data/book14_data/book14_item_map.txt', 'r') as f:\n",
    "    for line in f:\n",
    "        conts = line.strip().split(',')\n",
    "        id2asin[conts[1]] = conts[0]\n",
    "id2cate = {}\n",
    "with open('../data/book14_data/book14_cate_map.txt', 'r') as f:\n",
    "    for line in f:\n",
    "        conts = line.strip().split(',')\n",
    "        id2cate[conts[-2]] = conts[-3]"
   ]
  },
  {
   "cell_type": "code",
   "execution_count": 3,
   "id": "2469ca22-77f1-4e05-a69e-a5918c0b06d1",
   "metadata": {},
   "outputs": [],
   "source": [
    "info_path = exp_name + '_info.txt'\n",
    "\n",
    "users = set()\n",
    "user2intere = defaultdict(list)\n",
    "user2cate = defaultdict(dict)\n",
    "user2item = defaultdict(dict)\n",
    "\n",
    "with open(info_path, 'r') as f:\n",
    "    for line in f:\n",
    "        conts = line.strip().split(',')\n",
    "        user = conts[0]\n",
    "        intere = conts[1]\n",
    "        users.add(user)\n",
    "        user2intere[user].append(intere)\n",
    "        user2cate[user][intere] = set()\n",
    "        user2item[user][intere] = []\n",
    "        for i in range(2,52):\n",
    "            item = conts[i]\n",
    "            if item in item2cate:\n",
    "                cate = item2cate[item]\n",
    "            else:\n",
    "                cate = '1'\n",
    "            if cate != '1':\n",
    "                user2cate[user][intere].add(cate)\n",
    "                user2item[user][intere].append((id2asin[item],id2cate[cate]))"
   ]
  },
  {
   "cell_type": "code",
   "execution_count": 4,
   "id": "066e1687-9413-4657-9ae4-b6aa44a149f8",
   "metadata": {},
   "outputs": [],
   "source": [
    "num = len(users)\n",
    "score = dict()\n",
    "for u in users:\n",
    "    sco = 0\n",
    "    for j in range(4):\n",
    "        intere1 = user2intere[u][j]\n",
    "        for k in range(j+1,4):\n",
    "            intere2= user2intere[u][k]\n",
    "            set1 = user2cate[u][intere1]\n",
    "            set2 = user2cate[u][intere2]\n",
    "            sco += len(set1&set2)/(len(set1)+len(set2))\n",
    "    score[u] = sco"
   ]
  },
  {
   "cell_type": "code",
   "execution_count": 25,
   "id": "0dc499b3-712a-4aa4-a487-b502b321cfd8",
   "metadata": {},
   "outputs": [],
   "source": [
    "candidates = sorted(score.items(),key = lambda x:x[1],reverse = False)\n",
    "i=-1"
   ]
  },
  {
   "cell_type": "code",
   "execution_count": 38,
   "id": "9ce91427-9608-41b5-9397-0ae9730d8ad6",
   "metadata": {},
   "outputs": [],
   "source": [
    "'''\n",
    "i += 1\n",
    "u = candidates[i][0]\n",
    "print(i)\n",
    "for k, v in user2item[u].items():\n",
    "    user2item[u][k]=sorted(v,key=lambda v:v[1])\n",
    "user2item[u]'''\n",
    "\n",
    "u = '592160'\n",
    "book_list = []\n",
    "for k, v in user2item[u].items():\n",
    "    user2item[u][k]=sorted(v,key=lambda v:v[1])\n",
    "    book_list.extend([x[0] for x in v])"
   ]
  },
  {
   "cell_type": "code",
   "execution_count": null,
   "id": "4e4a6aaa-b388-4259-a218-56be89cc625f",
   "metadata": {},
   "outputs": [],
   "source": []
  },
  {
   "cell_type": "markdown",
   "id": "53dcc78e-9169-4ea8-a595-38d98ddce441",
   "metadata": {},
   "source": [
    "## 细筛"
   ]
  },
  {
   "cell_type": "code",
   "execution_count": 40,
   "id": "391a9702-81c7-4c18-88eb-8dca08d78ba6",
   "metadata": {},
   "outputs": [],
   "source": [
    "bookinfo = defaultdict(dict)\n",
    "with open('../../meta_Books.json', 'r') as f:\n",
    "    for line in f:\n",
    "        r = eval(line.strip())\n",
    "        asin = r['asin'] \n",
    "        if asin not in book_list:\n",
    "            continue\n",
    "        bookinfo[asin]['title'] = r['title']\n",
    "        bookinfo[asin]['cate'] = r['category'][-1]"
   ]
  },
  {
   "cell_type": "code",
   "execution_count": 48,
   "id": "6f57638f-ac7d-49e8-ad48-7a5ba69f8732",
   "metadata": {},
   "outputs": [],
   "source": [
    "final_info = []\n",
    "for k,v in user2item[u].items():\n",
    "    final_info.append([(x[0], bookinfo[x[0]]['cate'], bookinfo[x[0]]['title']) for x in v])"
   ]
  },
  {
   "cell_type": "code",
   "execution_count": 54,
   "id": "01baab34-e660-4134-983a-ea005282aa7a",
   "metadata": {},
   "outputs": [],
   "source": [
    "import csv  \n",
    "with open('./592160.csv', 'w', encoding='UTF8', newline='') as f:\n",
    "    writer = csv.writer(f)\n",
    "    writer.writerow(['asin', 'cate', 'title'])\n",
    "    for a_list in final_info:\n",
    "        for asin, cate, title in a_list:\n",
    "            writer.writerow([asin, cate, title])\n",
    "        writer.writerow(['*'])"
   ]
  },
  {
   "cell_type": "code",
   "execution_count": null,
   "id": "d14c9dd1-3392-492c-a76a-2ff0dfef8394",
   "metadata": {},
   "outputs": [],
   "source": []
  }
 ],
 "metadata": {
  "kernelspec": {
   "display_name": "Python 3 (ipykernel)",
   "language": "python",
   "name": "python3"
  },
  "language_info": {
   "codemirror_mode": {
    "name": "ipython",
    "version": 3
   },
   "file_extension": ".py",
   "mimetype": "text/x-python",
   "name": "python",
   "nbconvert_exporter": "python",
   "pygments_lexer": "ipython3",
   "version": "3.8.13"
  }
 },
 "nbformat": 4,
 "nbformat_minor": 5
}
