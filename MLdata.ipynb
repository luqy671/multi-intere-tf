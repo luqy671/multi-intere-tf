{
 "cells": [
  {
   "cell_type": "code",
   "execution_count": 13,
   "id": "bc4e0155-798c-48f6-809f-d70513bf6dc7",
   "metadata": {},
   "outputs": [],
   "source": [
    "def read_from_amazon1(source):\n",
    "    cnt = 0\n",
    "    with open(source, 'r') as f:\n",
    "        for line in f:\n",
    "            conts = line.strip().split(',')\n",
    "            if(len(conts)<4):\n",
    "                continue\n",
    "            uid = str(conts[1])\n",
    "            iid = str(conts[0])\n",
    "            #item_count[iid] += 1\n",
    "            ts = float(conts[3])\n",
    "            #users[uid].append((iid, ts))\n",
    "            cnt+=1\n",
    "    return cnt"
   ]
  },
  {
   "cell_type": "code",
   "execution_count": 14,
   "id": "be34bb15-9484-4c3a-b804-2c6aa4efab81",
   "metadata": {},
   "outputs": [],
   "source": [
    "cnt = read_from_amazon1('../Electronics.csv')"
   ]
  },
  {
   "cell_type": "code",
   "execution_count": 15,
   "id": "20d429b3-ae27-4f26-822f-8d7898ebac31",
   "metadata": {},
   "outputs": [
    {
     "data": {
      "text/plain": [
       "125822"
      ]
     },
     "execution_count": 15,
     "metadata": {},
     "output_type": "execute_result"
    }
   ],
   "source": [
    "cnt"
   ]
  },
  {
   "cell_type": "code",
   "execution_count": null,
   "id": "6d224224-b84a-43ff-98e9-6980d3f99482",
   "metadata": {},
   "outputs": [],
   "source": []
  }
 ],
 "metadata": {
  "kernelspec": {
   "display_name": "env1",
   "language": "python",
   "name": "env1"
  },
  "language_info": {
   "codemirror_mode": {
    "name": "ipython",
    "version": 3
   },
   "file_extension": ".py",
   "mimetype": "text/x-python",
   "name": "python",
   "nbconvert_exporter": "python",
   "pygments_lexer": "ipython3",
   "version": "3.6.13"
  }
 },
 "nbformat": 4,
 "nbformat_minor": 5
}
